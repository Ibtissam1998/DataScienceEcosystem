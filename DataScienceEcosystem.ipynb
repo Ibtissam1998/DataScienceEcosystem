{
 "cells": [
  {
   "cell_type": "markdown",
   "id": "7941d805-87eb-4788-9e63-911995a76526",
   "metadata": {},
   "source": [
    "# Data Science Tools and Ecosystem "
   ]
  },
  {
   "cell_type": "markdown",
   "id": "5107060e-e0e4-4c48-a35b-7b3f74e0324a",
   "metadata": {},
   "source": [
    "### In this notebook, Data Science Tools and Ecosystem are summarized."
   ]
  },
  {
   "cell_type": "markdown",
   "id": "c9f63b43-8213-4f58-8079-8325d5dd90ef",
   "metadata": {},
   "source": [
    "Some of the popular languages that Data Scientists use are :\n",
    "1. Python\n",
    "2. R\n",
    "3. SQL\n",
    "4. C++\n",
    "5. Java \n",
    "etc ...;\n"
   ]
  },
  {
   "cell_type": "markdown",
   "id": "29203621-89a8-465e-b0f4-01491602800b",
   "metadata": {},
   "source": [
    "Some of the commonly used libraries by Data Scientists include : \n",
    "1. TensorFlow \n",
    "2. Numpy\n",
    "3. Scipy\n",
    "4. Pandas\n",
    "5. Matplotlib \n",
    "6. keras \n",
    "7. SciKit-learn"
   ]
  },
  {
   "cell_type": "markdown",
   "id": "89baea5d-3bdd-48dc-92b9-fd71f360e02f",
   "metadata": {},
   "source": [
    "|Data Science Tools|\n",
    "|----|\n",
    "|SAS|\n",
    "|Apache Hadoop|\n",
    "|TensorFlow|"
   ]
  },
  {
   "cell_type": "markdown",
   "id": "a401ca19-cb9d-44ba-998b-683617bcf3d7",
   "metadata": {},
   "source": [
    "### Below are a few example of evaluating arithmetic expressions in Python.\n"
   ]
  },
  {
   "cell_type": "code",
   "execution_count": 27,
   "id": "d3172565-6c66-47c6-9cef-cd23e2d6e58a",
   "metadata": {},
   "outputs": [
    {
     "data": {
      "text/plain": [
       "17"
      ]
     },
     "execution_count": 27,
     "metadata": {},
     "output_type": "execute_result"
    }
   ],
   "source": [
    "#This a simple arithmetic expression to mutiply then add integers\n",
    "(3*4)+5"
   ]
  },
  {
   "cell_type": "code",
   "execution_count": 29,
   "id": "30f78c73-3f4c-4580-8258-74c191d5c632",
   "metadata": {},
   "outputs": [
    {
     "data": {
      "text/plain": [
       "3.3333333333333335"
      ]
     },
     "execution_count": 29,
     "metadata": {},
     "output_type": "execute_result"
    }
   ],
   "source": [
    "#This will convert 200 minutes to hours by diving by 60.\n",
    "200/60\n"
   ]
  },
  {
   "cell_type": "markdown",
   "id": "ddcea5e6-8532-4d61-b235-8df207923cab",
   "metadata": {},
   "source": [
    "__Objectives__\n",
    "* List popular languages for Data Science \n",
    "* List popular libraries for Data Science \n",
    "* List of well known Data Science Tools \n",
    "* How to provide cpomments in the cell "
   ]
  },
  {
   "cell_type": "markdown",
   "id": "df1befa5-4faa-4650-a2a8-7d430be75f0f",
   "metadata": {},
   "source": [
    "## Author\n",
    "MRINI IBTISSAM "
   ]
  }
 ],
 "metadata": {
  "kernelspec": {
   "display_name": "Python 3 (ipykernel)",
   "language": "python",
   "name": "python3"
  },
  "language_info": {
   "codemirror_mode": {
    "name": "ipython",
    "version": 3
   },
   "file_extension": ".py",
   "mimetype": "text/x-python",
   "name": "python",
   "nbconvert_exporter": "python",
   "pygments_lexer": "ipython3",
   "version": "3.12.4"
  }
 },
 "nbformat": 4,
 "nbformat_minor": 5
}
